{
 "cells": [
  {
   "cell_type": "markdown",
   "metadata": {},
   "source": [
    "## 两数之和\n",
    "给定一个整数数组 nums=和一个目标值target，请你在该数组中找出和为目标值的那两个整数，并返回他们的数组下标。\n",
    "\n",
    "例如<br/>\n",
    "给定 nums = [2, 7, 11, 15], target = 9<br/>\n",
    "因为 nums[0] + nums[1] = 2 + 7 = 9<br/>\n",
    "所以返回 [0, 1]"
   ]
  },
  {
   "cell_type": "markdown",
   "metadata": {},
   "source": [
    "思路1，暴力破解，但是要运用 in和 index 超出时间\n",
    "思路2，遍历矩阵的一半，减少重复计算，set间复杂度减半\n",
    "思路3，使用字典对思路2进行编程"
   ]
  },
  {
   "cell_type": "code",
   "execution_count": 5,
   "metadata": {
    "ExecuteTime": {
     "end_time": "2020-08-08T09:06:42.668790Z",
     "start_time": "2020-08-08T09:06:42.662806Z"
    }
   },
   "outputs": [
    {
     "name": "stdout",
     "output_type": "stream",
     "text": [
      "[1, 0]\n"
     ]
    }
   ],
   "source": [
    "def twoSum(nums, target):\n",
    "    for i, num in enumerate(nums):\n",
    "        tmp = target - num\n",
    "        if tmp in nums:\n",
    "            j = nums.index(tmp)\n",
    "            if (j != i):\n",
    "                return [i, j]\n",
    "\n",
    "\n",
    "nums = [3, 3]\n",
    "target = 6\n",
    "print(twoSum(nums, target))"
   ]
  },
  {
   "cell_type": "code",
   "execution_count": 8,
   "metadata": {
    "ExecuteTime": {
     "end_time": "2020-08-08T09:17:30.116390Z",
     "start_time": "2020-08-08T09:17:30.108408Z"
    }
   },
   "outputs": [
    {
     "name": "stdout",
     "output_type": "stream",
     "text": [
      "[1, 0]\n"
     ]
    }
   ],
   "source": [
    "def twoSum(nums, target):\n",
    "    for i in range(1, len(nums)):\n",
    "        tmp_nums = nums[:i]  #左闭右开\n",
    "        if target - nums[i] in tmp_nums:\n",
    "            return [i, tmp_nums.index(target - nums[i])]\n",
    "\n",
    "\n",
    "nums = [3, 3]\n",
    "target = 6\n",
    "print(twoSum(nums, target))"
   ]
  },
  {
   "cell_type": "code",
   "execution_count": 12,
   "metadata": {
    "ExecuteTime": {
     "end_time": "2020-08-08T09:25:32.293899Z",
     "start_time": "2020-08-08T09:25:32.288913Z"
    }
   },
   "outputs": [
    {
     "name": "stdout",
     "output_type": "stream",
     "text": [
      "[1, 0]\n"
     ]
    }
   ],
   "source": [
    "def twoSum(nums, target):\n",
    "    dict1 = {}\n",
    "    for i, num in enumerate(nums):\n",
    "        if target - num in dict1:\n",
    "            return [i, dict1[target - num]]\n",
    "        else:\n",
    "            dict1[num] = i\n",
    "\n",
    "\n",
    "nums = [2, 7, 11, 15]\n",
    "target = 9\n",
    "print(twoSum(nums, target))"
   ]
  },
  {
   "cell_type": "markdown",
   "metadata": {},
   "source": [
    "## 两数相加\n",
    "给出两个 非空 的链表用来表示两个非负的整数。其中，它们各自的位数是按照 逆序 的方式存储的，并且它们的每个节点只能存储 一位 数字。\n",
    "\n",
    "如果，我们将这两个数相加起来，则会返回一个新的链表来表示它们的和。\n",
    "\n",
    "您可以假设除了数字 0 之外，这两个数都不会以 0 开头。\n",
    "\n",
    "示例：\n",
    "\n",
    "输入：(2 -> 4 -> 3) + (5 -> 6 -> 4)\n",
    "输出：7 -> 0 -> 8\n",
    "原因：342 + 465 = 807"
   ]
  },
  {
   "cell_type": "markdown",
   "metadata": {
    "ExecuteTime": {
     "end_time": "2020-08-09T02:27:07.080419Z",
     "start_time": "2020-08-09T02:27:07.074409Z"
    }
   },
   "source": [
    "思路：l1.val if l1 else 0。。。。。l1.next if l1 else None。。。。。//是整除/是浮点除法<br/>\n",
    "要考虑进位和两数长度不等的情况"
   ]
  },
  {
   "cell_type": "code",
   "execution_count": null,
   "metadata": {},
   "outputs": [],
   "source": [
    "# Definition for singly-linked list.\n",
    "# class ListNode(object):\n",
    "#     def __init__(self, x):\n",
    "#         self.val = x\n",
    "#         self.next = None\n",
    "\n",
    "\n",
    "class Solution(object):\n",
    "    def addTwoNumbers(self, l1, l2):\n",
    "        tmp1 = ListNode()\n",
    "        tmp = tmp1\n",
    "        s = 0\n",
    "        while (l1 or l2 or s):\n",
    "            s = (l1.val if l1 else 0) + (l2.val if l2 else 0) + s\n",
    "            tmp1.next = ListNode(s % 10)\n",
    "            s = s // 10\n",
    "            tmp1 = tmp1.next\n",
    "            l1 = l1.next if l1 else None\n",
    "            l2 = l2.next if l2 else None\n",
    "        return tmp.next"
   ]
  },
  {
   "cell_type": "markdown",
   "metadata": {
    "ExecuteTime": {
     "end_time": "2020-08-09T02:32:01.406819Z",
     "start_time": "2020-08-09T02:32:01.399837Z"
    }
   },
   "source": [
    "## 无重复字符的最长子串\n",
    "给定一个字符串，请你找出其中不含有重复字符的 最长子串 的长度。\n",
    "\n",
    "示例 1:\n",
    "\n",
    "输入: \"abcabcbb\"\n",
    "输出: 3 \n",
    "解释: 因为无重复字符的最长子串是 \"abc\"，所以其长度为 3。\n",
    "示例 2:\n",
    "\n",
    "输入: \"bbbbb\"\n",
    "输出: 1\n",
    "解释: 因为无重复字符的最长子串是 \"b\"，所以其长度为 1。\n",
    "示例 3:\n",
    "\n",
    "输入: \"pwwkew\"\n",
    "输出: 3\n",
    "解释: 因为无重复字符的最长子串是 \"wke\"，所以其长度为 3。\n",
    "     请注意，你的答案必须是 子串 的长度，\"pwke\" 是一个子序列，不是子串。"
   ]
  },
  {
   "cell_type": "markdown",
   "metadata": {},
   "source": [
    "思路：1.使用dict \n",
    "\n",
    "2.滑动窗口"
   ]
  },
  {
   "cell_type": "code",
   "execution_count": null,
   "metadata": {},
   "outputs": [],
   "source": [
    "class Solution(object):\n",
    "    def lengthOfLongestSubstring(self, s):\n",
    "        max_len = 0\n",
    "        for i in range(len(s)):\n",
    "            dict1 = {}\n",
    "            tmp_len = 0\n",
    "            for j in range(i, len(s)):\n",
    "                if (s[j] in dict1):\n",
    "                    break\n",
    "                dict1[s[j]] = 1\n",
    "                tmp_len += 1\n",
    "            max_len = max(max_len, tmp_len)\n",
    "        return max_len"
   ]
  },
  {
   "cell_type": "code",
   "execution_count": null,
   "metadata": {},
   "outputs": [],
   "source": [
    "class Solution(object):\n",
    "    def lengthOfLongestSubstring(self, s):\n",
    "        str1 = \"\"\n",
    "        str_tmp = \"\"\n",
    "        for i in range(len(s)):\n",
    "            if (s[i] in str_tmp):\n",
    "                str1 = str_tmp if len(str1) < len(str_tmp) else str1\n",
    "                k = str_tmp.index(s[i]) + 1\n",
    "                str_tmp = str_tmp[k:] + s[i]\n",
    "            else:\n",
    "                str_tmp += s[i]\n",
    "\n",
    "        return len(str1) if (len(str1) > len(str_tmp)) else len(str_tmp)"
   ]
  },
  {
   "cell_type": "markdown",
   "metadata": {},
   "source": [
    "## 寻找两个正序数组的中位数\n",
    "给定两个大小为 m 和 n 的正序（从小到大）数组 nums1 和 nums2。\n",
    "\n",
    "请你找出这两个正序数组的中位数，并且要求算法的时间复杂度为 O(log(m + n))。\n",
    "\n",
    "你可以假设 nums1 和 nums2 不会同时为空。\n",
    "\n",
    " \n",
    "\n",
    "示例 1:\n",
    "\n",
    "nums1 = [1, 3]\n",
    "nums2 = [2]\n",
    "\n",
    "则中位数是 2.0\n",
    "示例 2:\n",
    "\n",
    "nums1 = [1, 2]\n",
    "nums2 = [3, 4]\n",
    "\n",
    "则中位数是 (2 + 3)/2 = 2.5"
   ]
  },
  {
   "cell_type": "markdown",
   "metadata": {
    "ExecuteTime": {
     "end_time": "2020-08-10T11:48:40.803426Z",
     "start_time": "2020-08-10T11:48:40.796448Z"
    }
   },
   "source": [
    "思路：1，两个排序再找中位数\n",
    "\n",
    "2,不合并的排序找\n",
    "\n",
    "3，转化成找第k小"
   ]
  },
  {
   "cell_type": "code",
   "execution_count": null,
   "metadata": {},
   "outputs": [],
   "source": [
    "class Solution(object):\n",
    "    def findMedianSortedArrays(self, nums1, nums2):\n",
    "        nums1.extend(nums2)\n",
    "        nums1.sort()\n",
    "        if (len(nums1) % 2 != 0):\n",
    "            return nums1[len(nums1) // 2]\n",
    "        else:\n",
    "            return (nums1[len(nums1) // 2 - 1] + nums1[len(nums1) // 2]) * 0.5"
   ]
  },
  {
   "cell_type": "code",
   "execution_count": null,
   "metadata": {},
   "outputs": [],
   "source": [
    "class Solution(object):\n",
    "    def findMedianSortedArrays(self, nums1, nums2):\n",
    "        left = right = 0\n",
    "        len1 = len(nums1)\n",
    "        len2 = len(nums2)\n",
    "        len3 = len1 + len2\n",
    "        num1 = num2 = 0\n",
    "        for i in range(len3 // 2 + 1):\n",
    "            num1 = num2\n",
    "            if (left < len1 and (right >= len2 or nums1[left] < nums2[right])):\n",
    "                num2 = nums1[left]\n",
    "                left += 1\n",
    "            else:\n",
    "                num2 = nums2[right]\n",
    "                right += 1\n",
    "        if (len3 % 2 == 0):\n",
    "            return (num1 + num2) * 0.5\n",
    "        else:\n",
    "            return num2"
   ]
  },
  {
   "cell_type": "code",
   "execution_count": null,
   "metadata": {},
   "outputs": [],
   "source": [
    "class Solution(object):\n",
    "    def findMedianSortedArrays(self, nums1, nums2):\n",
    "        len1 = len(nums1)\n",
    "        len2 = len(nums2)\n",
    "        left = (len1 + len2 + 1) // 2\n",
    "        right = (len1 + len2 + 2) // 2\n",
    "\n",
    "        def find(k, nums1, nums2, left1, right1, left2, right2):\n",
    "            len1 = right1 - left1 + 1\n",
    "            len2 = right2 - left2 + 1\n",
    "            if (len1 > len2):\n",
    "                return find(k, nums2, nums1, left2, right2, left1, right1)\n",
    "            if (len1 == 0):\n",
    "                return nums2[left2 + k - 1]\n",
    "            if (k == 1):\n",
    "                return min(nums1[left1], nums2[left2])\n",
    "            i = left1 + min(len1, k // 2)\n",
    "            j = left2 + min(len2, k // 2)\n",
    "            if (nums1[i - 1] >= nums2[j - 1]):\n",
    "                return find(k - (j - left2), nums1, nums2, left1, right1, j,\n",
    "                            right2)\n",
    "            else:\n",
    "                return find(k - (i - left1), nums1, nums2, i, right1, left2,\n",
    "                            right2)\n",
    "\n",
    "        return (find(left, nums1, nums2, 0, len1 - 1, 0, len2 - 1) +\n",
    "                find(right, nums1, nums2, 0, len1 - 1, 0, len2 - 1)) * 0.5"
   ]
  },
  {
   "cell_type": "markdown",
   "metadata": {},
   "source": [
    "## 最长回文子串\n",
    "给定一个字符串 s，找到 s 中最长的回文子串。你可以假设 s 的最大长度为 1000。\n",
    "\n",
    "示例 1：\n",
    "\n",
    "输入: \"babad\"\n",
    "输出: \"bab\"\n",
    "注意: \"aba\" 也是一个有效答案。\n",
    "示例 2：\n",
    "\n",
    "输入: \"cbbd\"\n",
    "输出: \"bb\""
   ]
  },
  {
   "cell_type": "markdown",
   "metadata": {},
   "source": [
    "思路：1，暴力法，超出时间\n",
    "\n",
    "2，动态规划，要注意填表的顺序和边界"
   ]
  },
  {
   "cell_type": "code",
   "execution_count": 5,
   "metadata": {
    "ExecuteTime": {
     "end_time": "2020-08-11T02:27:13.156283Z",
     "start_time": "2020-08-11T02:27:13.135174Z"
    }
   },
   "outputs": [
    {
     "data": {
      "text/plain": [
       "'a'"
      ]
     },
     "execution_count": 5,
     "metadata": {},
     "output_type": "execute_result"
    }
   ],
   "source": [
    "class Solution(object):\n",
    "    def longestPalindrome(self, s):\n",
    "        len1 = len(s)\n",
    "        if (len1 < 2):\n",
    "            return s\n",
    "        A = [[False] * len1 for i in range(len1)]\n",
    "        max_len = 1\n",
    "        start = 0\n",
    "        for i in range(len1):\n",
    "            A[i][i] = True\n",
    "        for j in range(1, len1):\n",
    "            for i in range(0, j):\n",
    "                if (s[i] == s[j]):\n",
    "                    if (j - i < 3):\n",
    "                        A[i][j] = True\n",
    "                    else:\n",
    "                        A[i][j] = A[i + 1][j - 1]\n",
    "                else:\n",
    "                    A[i][j] = False\n",
    "                if (A[i][j]):\n",
    "                    if ((j + 1 - i) > max_len):\n",
    "                        max_len = (j + 1 - i)\n",
    "                        start = i\n",
    "        return s[start:start + max_len]\n",
    "a=Solution()\n",
    "a.longestPalindrome(\"ac\")"
   ]
  },
  {
   "cell_type": "markdown",
   "metadata": {
    "ExecuteTime": {
     "end_time": "2020-08-11T02:24:35.259626Z",
     "start_time": "2020-08-11T02:24:35.250678Z"
    }
   },
   "source": [
    "##  Z 字形变换\n",
    "将一个给定字符串根据给定的行数，以从上往下、从左到右进行 Z 字形排列。\n",
    "\n",
    "比如输入字符串为 \"LEETCODEISHIRING\" 行数为 3 时，排列如下：\n",
    "\n",
    "L   C   I   R\n",
    "E T O E S I I G\n",
    "E   D   H   N\n",
    "之后，你的输出需要从左往右逐行读取，产生出一个新的字符串，比如：\"LCIRETOESIIGEDHN\"。\n",
    "\n",
    "请你实现这个将字符串进行指定行数变换的函数：\n",
    "\n",
    "string convert(string s, int numRows);\n",
    "示例 1:\n",
    "\n",
    "输入: s = \"LEETCODEISHIRING\", numRows = 3\n",
    "输出: \"LCIRETOESIIGEDHN\"\n",
    "示例 2:\n",
    "\n",
    "输入: s = \"LEETCODEISHIRING\", numRows = 4\n",
    "输出: \"LDREOEIIECIHNTSG\""
   ]
  },
  {
   "cell_type": "markdown",
   "metadata": {},
   "source": [
    "思路：1，用巧妙办法 \n",
    "\n",
    "2，最简单方法从上到下，再从下到上"
   ]
  },
  {
   "cell_type": "code",
   "execution_count": null,
   "metadata": {},
   "outputs": [],
   "source": [
    "class Solution(object):\n",
    "    def convert(self, s, numRows):\n",
    "        if numRows == 1:\n",
    "            return s\n",
    "        rows = [\"\"] * numRows\n",
    "        n = numRows * 2 - 2\n",
    "        for i, c in enumerate(s):\n",
    "            x = i % n\n",
    "            rows[min(x, n - x)] += c\n",
    "        return \"\".join(rows)"
   ]
  },
  {
   "cell_type": "code",
   "execution_count": null,
   "metadata": {},
   "outputs": [],
   "source": [
    "class Solution(object):\n",
    "    def convert(self, s, numRows):\n",
    "        if numRows == 1:\n",
    "            return s\n",
    "        rows = [\"\"] * numRows\n",
    "        flag = -1\n",
    "        row = 0\n",
    "        for i, c in enumerate(s):\n",
    "            if (row == 0 or row == (numRows - 1)):\n",
    "                flag = flag * -1\n",
    "            rows[row] += c\n",
    "            row += flag\n",
    "        return \"\".join(rows)"
   ]
  },
  {
   "cell_type": "markdown",
   "metadata": {},
   "source": [
    "## 整数反转\n",
    "示例 1:\n",
    "\n",
    "输入: 123\n",
    "输出: 321\n",
    " 示例 2:\n",
    "\n",
    "输入: -123\n",
    "输出: -321\n",
    "示例 3:\n",
    "\n",
    "输入: 120\n",
    "输出: 21\n",
    "注意:\n",
    "\n",
    "假设我们的环境只能存储得下 32 位的有符号整数，则其数值范围为 [−2^31,  2^31 − 1]。请根据这个假设，如果反转后整数溢出那么就返回 0。"
   ]
  },
  {
   "cell_type": "markdown",
   "metadata": {},
   "source": [
    "思路：考虑边界"
   ]
  },
  {
   "cell_type": "code",
   "execution_count": null,
   "metadata": {},
   "outputs": [],
   "source": [
    "class Solution(object):\n",
    "    def reverse(self, x):\n",
    "        maxint = (1 << 31) - 1\n",
    "        flag = x >= 0\n",
    "        ans = 0\n",
    "        if x == -1 << 31: return 0\n",
    "        x = abs(x)\n",
    "        while (x):\n",
    "            pop = x % 10\n",
    "            if (ans > maxint // 10 or (ans == maxint // 10 and pop > 7)):\n",
    "                return 0\n",
    "            ans = ans * 10 + pop\n",
    "            x = x // 10\n",
    "        return ans if flag else -ans"
   ]
  },
  {
   "cell_type": "markdown",
   "metadata": {},
   "source": [
    "## 字符串转换整数 (atoi)\n",
    "请你来实现一个 atoi 函数，使其能将字符串转换成整数。\n",
    "\n",
    "首先，该函数会根据需要丢弃无用的开头空格字符，直到寻找到第一个非空格的字符为止。接下来的转化规则如下：\n",
    "\n",
    "如果第一个非空字符为正或者负号时，则将该符号与之后面尽可能多的连续数字字符组合起来，形成一个有符号整数。\n",
    "假如第一个非空字符是数字，则直接将其与之后连续的数字字符组合起来，形成一个整数。\n",
    "该字符串在有效的整数部分之后也可能会存在多余的字符，那么这些字符可以被忽略，它们对函数不应该造成影响。\n",
    "注意：假如该字符串中的第一个非空格字符不是一个有效整数字符、字符串为空或字符串仅包含空白字符时，则你的函数不需要进行转换，即无法进行有效转换。\n",
    "\n",
    "在任何情况下，若函数不能进行有效的转换时，请返回 0 。\n",
    "\n",
    "提示：\n",
    "\n",
    "本题中的空白字符只包括空格字符 ' ' 。\n",
    "假设我们的环境只能存储 32 位大小的有符号整数，那么其数值范围为 [−231,  231 − 1]。如果数值超过这个范围，请返回  INT_MAX (231 − 1) 或 INT_MIN (−231) 。\n",
    " \n",
    "\n",
    "示例 1:\n",
    "\n",
    "输入: \"42\"\n",
    "输出: 42\n",
    "示例 2:\n",
    "\n",
    "输入: \"   -42\"\n",
    "输出: -42\n",
    "解释: 第一个非空白字符为 '-', 它是一个负号。\n",
    "     我们尽可能将负号与后面所有连续出现的数字组合起来，最后得到 -42 。\n",
    "示例 3:\n",
    "\n",
    "输入: \"4193 with words\"\n",
    "输出: 4193\n",
    "解释: 转换截止于数字 '3' ，因为它的下一个字符不为数字。\n",
    "示例 4:\n",
    "\n",
    "输入: \"words and 987\"\n",
    "输出: 0\n",
    "解释: 第一个非空字符是 'w', 但它不是数字或正、负号。\n",
    "     因此无法执行有效的转换。\n",
    "示例 5:\n",
    "\n",
    "输入: \"-91283472332\"\n",
    "输出: -2147483648\n",
    "解释: 数字 \"-91283472332\" 超过 32 位有符号整数范围。 \n",
    "     因此返回 INT_MIN (−231) 。"
   ]
  },
  {
   "cell_type": "markdown",
   "metadata": {},
   "source": [
    "<b>思路：正则表达式</b>\n",
    "\n",
    "^匹配字符串开头<p>\n",
    "?是前边的可有可无<p>\n",
    "+是匹配多个"
   ]
  },
  {
   "cell_type": "code",
   "execution_count": 1,
   "metadata": {
    "ExecuteTime": {
     "end_time": "2020-08-13T06:56:48.898526Z",
     "start_time": "2020-08-13T06:56:48.888364Z"
    }
   },
   "outputs": [],
   "source": [
    "class Solution(object):\n",
    "    def myAtoi(self, str):\n",
    "        MAX_INT = (1 << 31) - 1\n",
    "        MIN_INT = -1 << 31\n",
    "        str = str.lstrip()\n",
    "        num_re = re.compile(r'^[\\+\\-]?\\d+')\n",
    "        num = num_re.findall(str)\n",
    "        num = int(*num)\n",
    "        return max(min(num, MAX_INT), MIN_INT)"
   ]
  },
  {
   "cell_type": "markdown",
   "metadata": {},
   "source": [
    "## 回文"
   ]
  },
  {
   "cell_type": "code",
   "execution_count": null,
   "metadata": {},
   "outputs": [],
   "source": [
    "class Solution(object):\n",
    "    def isPalindrome(self, x):\n",
    "        x = str(x)\n",
    "        for i in range(len(x) // 2):\n",
    "            if (x[i] != x[len(x) - 1 - i]):\n",
    "                return False\n",
    "        return True"
   ]
  }
 ],
 "metadata": {
  "kernelspec": {
   "display_name": "Python 3",
   "language": "python",
   "name": "python3"
  },
  "language_info": {
   "codemirror_mode": {
    "name": "ipython",
    "version": 3
   },
   "file_extension": ".py",
   "mimetype": "text/x-python",
   "name": "python",
   "nbconvert_exporter": "python",
   "pygments_lexer": "ipython3",
   "version": "3.6.10"
  },
  "toc": {
   "base_numbering": 1,
   "nav_menu": {},
   "number_sections": true,
   "sideBar": true,
   "skip_h1_title": false,
   "title_cell": "Table of Contents",
   "title_sidebar": "Contents",
   "toc_cell": false,
   "toc_position": {},
   "toc_section_display": true,
   "toc_window_display": false
  },
  "varInspector": {
   "cols": {
    "lenName": 16,
    "lenType": 16,
    "lenVar": 40
   },
   "kernels_config": {
    "python": {
     "delete_cmd_postfix": "",
     "delete_cmd_prefix": "del ",
     "library": "var_list.py",
     "varRefreshCmd": "print(var_dic_list())"
    },
    "r": {
     "delete_cmd_postfix": ") ",
     "delete_cmd_prefix": "rm(",
     "library": "var_list.r",
     "varRefreshCmd": "cat(var_dic_list()) "
    }
   },
   "types_to_exclude": [
    "module",
    "function",
    "builtin_function_or_method",
    "instance",
    "_Feature"
   ],
   "window_display": false
  }
 },
 "nbformat": 4,
 "nbformat_minor": 4
}
