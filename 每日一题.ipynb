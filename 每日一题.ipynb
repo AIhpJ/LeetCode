{
 "cells": [
  {
   "cell_type": "markdown",
   "metadata": {},
   "source": [
    "## 字符串相加\n",
    "给定两个字符串形式的非负整数 num1 和num2 ，计算它们的和。\n",
    "\n",
    " \n",
    "\n",
    "提示：\n",
    "\n",
    "num1 和num2 的长度都小于 5100\n",
    "num1 和num2 都只包含数字 0-9\n",
    "num1 和num2 都不包含任何前导零\n",
    "你不能使用任何內建 BigInteger 库， 也不能直接将输入的字符串转换为整数形式"
   ]
  },
  {
   "cell_type": "code",
   "execution_count": null,
   "metadata": {},
   "outputs": [],
   "source": [
    "class Solution(object):\n",
    "    def addStrings(self, num1, num2):\n",
    "        i = len(num1) - 1\n",
    "        j = len(num2) - 1\n",
    "        c = 0\n",
    "        num3 = \"\"\n",
    "        while (i >= 0 or j >= 0 or c):\n",
    "            n1 = int(num1[i]) if i >= 0 else 0\n",
    "            n2 = int(num2[j]) if j >= 0 else 0\n",
    "            c, n = divmod(n1 + n2 + c, 10)\n",
    "            num3 = str(n) + num3\n",
    "            i -= 1\n",
    "            j -= 1\n",
    "        return num3"
   ]
  },
  {
   "cell_type": "markdown",
   "metadata": {},
   "source": [
    "## 字符串相乘\n",
    "类似同上"
   ]
  },
  {
   "cell_type": "code",
   "execution_count": 15,
   "metadata": {
    "ExecuteTime": {
     "end_time": "2020-08-13T08:00:19.525876Z",
     "start_time": "2020-08-13T08:00:19.505831Z"
    }
   },
   "outputs": [
    {
     "data": {
      "text/plain": [
       "0"
      ]
     },
     "execution_count": 15,
     "metadata": {},
     "output_type": "execute_result"
    }
   ],
   "source": [
    "class Solution(object):\n",
    "    def multiply(self, num1, num2):\n",
    "        if (num1 == \"0\" or num2 == \"0\"):\n",
    "            return \"0\"\n",
    "        ans = \"\"\n",
    "        i = len(num2) - 1\n",
    "        while (i >= 0):\n",
    "            tmp = self.multiply_once(int(num2[i]), num1)+\"0\"*(len(num2)-1-i)\n",
    "            print(tmp)\n",
    "            ans = self.plus(ans, tmp)\n",
    "            i -= 1\n",
    "        return ans\n",
    "\n",
    "    def multiply_once(self, number, num1):\n",
    "        c = 0\n",
    "        i = len(num1) - 1\n",
    "        num3 = \"\"\n",
    "        while (i >= 0):\n",
    "            c, n = divmod(number * int(num1[i]) + c, 10)\n",
    "            num3 = str(n) + num3\n",
    "            i -= 1\n",
    "        if(c):\n",
    "            num3 = str(c) + num3\n",
    "        return num3\n",
    "\n",
    "    def plus(self, num1, num2):\n",
    "        i = len(num1) - 1\n",
    "        j = len(num2) - 1\n",
    "        c = 0\n",
    "        num3 = \"\"\n",
    "        while (i >= 0 or j >= 0 or c):\n",
    "            n1 = int(num1[i]) if i >= 0 else 0\n",
    "            n2 = int(num2[j]) if j >= 0 else 0\n",
    "            c, n = divmod(n1 + n2 + c, 10)\n",
    "            num3 = str(n) + num3\n",
    "            i -= 1\n",
    "            j -= 1\n",
    "        return num3\n",
    "s=Solution()\n",
    "s.multiply(\"0\",\"0\")"
   ]
  },
  {
   "cell_type": "markdown",
   "metadata": {},
   "source": [
    "## 有效的括号匹配"
   ]
  },
  {
   "cell_type": "code",
   "execution_count": null,
   "metadata": {},
   "outputs": [],
   "source": [
    "class Solution(object):\n",
    "    def isValid(self, s):\n",
    "        dict1 = {'(': ')', '[': ']', '{': '}'}\n",
    "        stack = []\n",
    "        for c in s:\n",
    "            if c in dict1:\n",
    "                stack.append(c)\n",
    "            else:\n",
    "                if (len(stack) == 0):\n",
    "                    return False\n",
    "                if (c != dict1[stack.pop()]):\n",
    "                    return False\n",
    "        return len(stack) == 0"
   ]
  },
  {
   "cell_type": "markdown",
   "metadata": {},
   "source": [
    "## 图像渲染\n",
    "有一幅以二维整数数组表示的图画，每一个整数表示该图画的像素值大小，数值在 0 到 65535 之间。\n",
    "\n",
    "给你一个坐标 (sr, sc) 表示图像渲染开始的像素值（行 ，列）和一个新的颜色值 newColor，让你重新上色这幅图像。\n",
    "\n",
    "为了完成上色工作，从初始坐标开始，记录初始坐标的上下左右四个方向上像素值与初始坐标相同的相连像素点，接着再记录这四个方向上符合条件的像素点与他们对应四个方向上像素值与初始坐标相同的相连像素点，……，重复该过程。将所有有记录的像素点的颜色值改为新的颜色值。\n",
    "\n",
    "最后返回经过上色渲染后的图像。\n",
    "\n",
    "示例 1:\n",
    "\n",
    "输入: \n",
    "image = [[1,1,1],[1,1,0],[1,0,1]]\n",
    "sr = 1, sc = 1, newColor = 2\n",
    "输出: [[2,2,2],[2,2,0],[2,0,1]]\n",
    "解析: \n",
    "在图像的正中间，(坐标(sr,sc)=(1,1)),\n",
    "在路径上所有符合条件的像素点的颜色都被更改成2。\n",
    "注意，右下角的像素没有更改为2，\n",
    "因为它不是在上下左右四个方向上与初始点相连的像素点。\n",
    "注意:\n",
    "\n",
    "image 和 image[0] 的长度在范围 [1, 50] 内。\n",
    "给出的初始点将满足 0 <= sr < image.length 和 0 <= sc < image[0].length。\n",
    "image[i][j] 和 newColor 表示的颜色值在范围 [0, 65535]内。"
   ]
  },
  {
   "cell_type": "code",
   "execution_count": null,
   "metadata": {},
   "outputs": [],
   "source": [
    "class Solution(object):\n",
    "    def floodFill(self, image, sr, sc, newColor):\n",
    "        check = image[sr][sc]\n",
    "        if check == newColor:\n",
    "            return image\n",
    "        self.dfs(sr, sc, image, newColor, check)\n",
    "        return image\n",
    "\n",
    "    def dfs(self, i, j, image, newColor, check):\n",
    "        if (i in range(0, len(image)) and j in range(0, len(image[0]))\n",
    "                and image[i][j] == check):\n",
    "            image[i][j] = newColor\n",
    "            self.dfs(i - 1, j, image, newColor, check)\n",
    "            self.dfs(i + 1, j, image, newColor, check)\n",
    "            self.dfs(i, j - 1, image, newColor, check)\n",
    "            self.dfs(i, j + 1, image, newColor, check)"
   ]
  },
  {
   "cell_type": "code",
   "execution_count": null,
   "metadata": {},
   "outputs": [],
   "source": [
    "class Solution(object):\n",
    "    def floodFill(self, image, sr, sc, newColor):\n",
    "        check = image[sr][sc]\n",
    "        if check == newColor:\n",
    "            return image\n",
    "        q = deque([(sr, sc)])\n",
    "        while (q):\n",
    "            i, j = q.popleft()\n",
    "            if (i in range(0, len(image)) and j in range(0, len(image[0]))\n",
    "                    and image[i][j] == check):\n",
    "                image[i][j] = newColor\n",
    "                q.extend([(i - 1, j), (i + 1, j), (i, j - 1), (i, j + 1)])\n",
    "        return image"
   ]
  },
  {
   "cell_type": "markdown",
   "metadata": {},
   "source": [
    "## 被围绕的区域\n",
    "给定一个二维的矩阵，包含 'X' 和 'O'（字母 O）。\n",
    "\n",
    "找到所有被 'X' 围绕的区域，并将这些区域里所有的 'O' 用 'X' 填充。\n",
    "\n",
    "示例:\n",
    "\n",
    "X X X X\n",
    "X O O X\n",
    "X X O X\n",
    "X O X X\n",
    "运行你的函数后，矩阵变为：\n",
    "\n",
    "X X X X\n",
    "X X X X\n",
    "X X X X\n",
    "X O X X\n",
    "解释:\n",
    "\n",
    "被围绕的区间不会存在于边界上，换句话说，任何边界上的 'O' 都不会被填充为 'X'。 任何不在边界上，或不与边界上的 'O' 相连的 'O' 最终都会被填充为 'X'。如果两个元素在水平或垂直方向相邻，则称它们是“相连”的。"
   ]
  },
  {
   "cell_type": "code",
   "execution_count": null,
   "metadata": {},
   "outputs": [],
   "source": [
    "class Solution(object):\n",
    "    def solve(self, board):\n",
    "        if not board or not board[0]:\n",
    "            return\n",
    "        x, y = len(board), len(board[0])\n",
    "\n",
    "        def dfs(i, j):\n",
    "            if (i in range(0, x) and j in range(0, y) and board[i][j] == 'O'):\n",
    "                board[i][j] = 'B'\n",
    "                dfs(i - 1, j)\n",
    "                dfs(i + 1, j)\n",
    "                dfs(i, j + 1)\n",
    "                dfs(i, j - 1)\n",
    "\n",
    "        for i in range(len(board)):\n",
    "            if (board[i][0] == 'O'):\n",
    "                dfs(i, 0)\n",
    "            if (board[i][y - 1] == 'O'):\n",
    "                dfs(i, y - 1)\n",
    "        for j in range(y):\n",
    "            if (board[0][j] == 'O'):\n",
    "                dfs(0, j)\n",
    "            if (board[x - 1][j] == 'O'):\n",
    "                dfs(x - 1, j)\n",
    "        for i in range(1, x):\n",
    "            for j in range(1, y):\n",
    "                if (board[i][j] == 'O'):\n",
    "                    board[i][j] = 'X'\n",
    "        for i in range(0, x):\n",
    "            for j in range(0, y):\n",
    "                if (board[i][j] == 'B'):\n",
    "                    board[i][j] = 'O'"
   ]
  },
  {
   "cell_type": "code",
   "execution_count": null,
   "metadata": {},
   "outputs": [],
   "source": [
    "class Solution(object):\n",
    "    def solve(self, board):\n",
    "        if not board or not board[0]:\n",
    "            return\n",
    "        x, y = len(board), len(board[0])\n",
    "        q=deque([])\n",
    "        def bfs():\n",
    "            while(q):\n",
    "                i,j=q.popleft()\n",
    "                if (i in range(0, x) and j in range(0, y) and board[i][j] == 'O'):\n",
    "                    board[i][j] = 'B'\n",
    "                    q.extend([(i - 1, j), (i + 1, j), (i, j - 1), (i, j + 1)])\n",
    "\n",
    "        for i in range(len(board)):\n",
    "            if (board[i][0] == 'O'):\n",
    "                q.extend([(i,0)])\n",
    "                bfs()\n",
    "            if (board[i][y - 1] == 'O'):\n",
    "                q.extend([(i, y - 1)])\n",
    "                bfs()\n",
    "        for j in range(y):\n",
    "            if (board[0][j] == 'O'):\n",
    "                q.extend([(0, j)])\n",
    "                bfs()\n",
    "            if (board[x - 1][j] == 'O'):\n",
    "                q.extend([(x - 1, j)])\n",
    "                bfs()\n",
    "        for i in range(1, x):\n",
    "            for j in range(1, y):\n",
    "                if (board[i][j] == 'O'):\n",
    "                    board[i][j] = 'X'\n",
    "        for i in range(0, x):\n",
    "            for j in range(0, y):\n",
    "                if (board[i][j] == 'B'):\n",
    "                    board[i][j] = 'O'"
   ]
  },
  {
   "cell_type": "markdown",
   "metadata": {},
   "source": [
    "## 岛屿数量\n",
    "给你一个由 '1'（陆地）和 '0'（水）组成的的二维网格，请你计算网格中岛屿的数量。\n",
    "\n",
    "岛屿总是被水包围，并且每座岛屿只能由水平方向或竖直方向上相邻的陆地连接形成。\n",
    "\n",
    "此外，你可以假设该网格的四条边均被水包围。\n",
    "\n",
    "输入:\n",
    "[\n",
    "['1','1','0','0','0'],\n",
    "['1','1','0','0','0'],\n",
    "['0','0','1','0','0'],\n",
    "['0','0','0','1','1']\n",
    "]\n",
    "输出: 3\n",
    "解释: 每座岛屿只能由水平和/或竖直方向上相邻的陆地连接而成。"
   ]
  },
  {
   "cell_type": "code",
   "execution_count": null,
   "metadata": {},
   "outputs": [],
   "source": [
    "class Solution(object):\n",
    "    def numIslands(self, grid):\n",
    "        if not grid or not grid:\n",
    "            return 0\n",
    "        col = len(grid)\n",
    "        row = len(grid[0])\n",
    "        count = 0\n",
    "\n",
    "        def dfs(i, j):\n",
    "            if (i in range(0, col) and j in range(0, row)\n",
    "                    and grid[i][j] == '1'):\n",
    "                grid[i][j] = '2'\n",
    "                dfs(i - 1, j)\n",
    "                dfs(i + 1, j)\n",
    "                dfs(i, j + 1)\n",
    "                dfs(i, j - 1)\n",
    "\n",
    "        for i in range(col):\n",
    "            for j in range(row):\n",
    "                if (grid[i][j] == '1'):\n",
    "                    dfs(i, j)\n",
    "                    count += 1\n",
    "        return count"
   ]
  },
  {
   "cell_type": "markdown",
   "metadata": {},
   "source": [
    "## 平衡二叉树"
   ]
  },
  {
   "cell_type": "code",
   "execution_count": null,
   "metadata": {},
   "outputs": [],
   "source": [
    "# Definition for a binary tree node.\n",
    "# class TreeNode(object):\n",
    "#     def __init__(self, x):\n",
    "#         self.val = x\n",
    "#         self.left = None\n",
    "#         self.right = None\n",
    "\n",
    "\n",
    "class Solution(object):\n",
    "    def isBalanced(self, root):\n",
    "        if (not root):\n",
    "            return True\n",
    "        return self.isBalanced(root.left) and self.isBalanced(\n",
    "            root.right\n",
    "        ) and abs(self.depth(root.left) - self.depth(root.right)) <= 1\n",
    "\n",
    "    def depth(self, root):\n",
    "        if not root:\n",
    "            return 0\n",
    "        return max(self.depth(root.left), self.depth(root.right)) + 1"
   ]
  },
  {
   "cell_type": "markdown",
   "metadata": {},
   "source": [
    "## 字符串转二叉树"
   ]
  },
  {
   "cell_type": "code",
   "execution_count": null,
   "metadata": {},
   "outputs": [],
   "source": [
    "class Solution(object):\n",
    "    def sortedArrayToBST(self, nums):\n",
    "        if not nums: return None\n",
    "        mid = (len(nums) - 1) // 2\n",
    "        root = TreeNode(nums[mid])\n",
    "        root.left = self.sortedArrayToBST(nums[:mid])\n",
    "        root.right = self.sortedArrayToBST(nums[mid + 1:])\n",
    "        return root"
   ]
  },
  {
   "cell_type": "markdown",
   "metadata": {},
   "source": [
    "## 链表转二叉树"
   ]
  },
  {
   "cell_type": "code",
   "execution_count": null,
   "metadata": {},
   "outputs": [],
   "source": [
    "class Solution(object):\n",
    "    def sortedListToBST(self, head):\n",
    "        if not head:\n",
    "            return None\n",
    "        pre, mid, last = None, head, head\n",
    "        while last and last.next:\n",
    "            last = last.next.next\n",
    "            pre = mid\n",
    "            mid = mid.next\n",
    "        if pre:#断开链\n",
    "            pre.next = None\n",
    "        root = TreeNode(mid.val)\n",
    "        if mid == last:\n",
    "            return root\n",
    "        root.left = self.sortedListToBST(head)\n",
    "        root.right = self.sortedListToBST(mid.next)\n",
    "        return root"
   ]
  },
  {
   "cell_type": "markdown",
   "metadata": {},
   "source": [
    "## 二叉树转平衡二叉树"
   ]
  },
  {
   "cell_type": "code",
   "execution_count": null,
   "metadata": {},
   "outputs": [],
   "source": [
    "class Solution(object):\n",
    "    def inorder(self, root):\n",
    "        if not root:\n",
    "            return []\n",
    "        else:\n",
    "            return self.inorder(root.left) + [root.val] + self.inorder(\n",
    "                root.right)\n",
    "\n",
    "    def dfs(self, left, right, nums):\n",
    "        if left == right:\n",
    "            return TreeNode(nums[left])\n",
    "        if left > right:\n",
    "            return None\n",
    "        mid = (left + right) // 2\n",
    "        root = TreeNode(nums[mid])\n",
    "        root.left = self.dfs(left, mid - 1, nums)\n",
    "        root.right = self.dfs(mid + 1, right, nums)\n",
    "        return root\n",
    "\n",
    "    def balanceBST(self, root):\n",
    "        nums = self.inorder(root)\n",
    "        return self.dfs(0, len(nums) - 1, nums)"
   ]
  },
  {
   "cell_type": "markdown",
   "metadata": {},
   "source": [
    "## 检测有多少回文子串"
   ]
  },
  {
   "cell_type": "code",
   "execution_count": null,
   "metadata": {},
   "outputs": [],
   "source": [
    "class Solution(object):\n",
    "    def countSubstrings(self, s):\n",
    "        left, right = 0, len(s) - 1\n",
    "        num = 1\n",
    "\n",
    "        def check(i, j):\n",
    "            num = 1\n",
    "            while (i - 1 >= left and j + 1 <= right):\n",
    "                if (s[i - 1] != s[j + 1]):\n",
    "                    break\n",
    "                num += 1\n",
    "                i -= 1\n",
    "                j += 1\n",
    "            return num\n",
    "\n",
    "        for i in range(len(s) - 1):\n",
    "            num += check(i, i)\n",
    "            if (s[i] == s[i + 1]):\n",
    "                num += check(i, i + 1)\n",
    "        return num"
   ]
  },
  {
   "cell_type": "code",
   "execution_count": 3,
   "metadata": {
    "ExecuteTime": {
     "end_time": "2020-08-19T08:02:21.425898Z",
     "start_time": "2020-08-19T08:02:21.410261Z"
    }
   },
   "outputs": [],
   "source": [
    "#动态规划解法\n",
    "class Solution(object):\n",
    "    def countSubstrings(self, s):\n",
    "        len1 = len(s)\n",
    "        dp = [[0] * len1 for i in range(len1)]\n",
    "        for i in range(len1):\n",
    "            dp[i][i] = 1\n",
    "        nums = len1\n",
    "        for j in range(1, len1):\n",
    "            for i in range(j):\n",
    "                if (j - i == 1 and s[i] == s[j]):\n",
    "                    dp[i][j] = 1\n",
    "                    nums += 1\n",
    "                if (j - i > 1 and s[i] == s[j] and dp[i + 1][j - 1] == 1):\n",
    "                    dp[i][j] = 1\n",
    "                    nums += 1\n",
    "        return nums"
   ]
  },
  {
   "cell_type": "markdown",
   "metadata": {},
   "source": [
    "## 529扫雷\n",
    "本题解法有误，因为题目读不懂，做出思路就可以了，就是个dfs"
   ]
  },
  {
   "cell_type": "code",
   "execution_count": 19,
   "metadata": {
    "ExecuteTime": {
     "end_time": "2020-08-20T04:33:02.949575Z",
     "start_time": "2020-08-20T04:33:02.934600Z"
    }
   },
   "outputs": [
    {
     "data": {
      "text/plain": [
       "[['B', '1', 'E', 'E', 'E'],\n",
       " ['B', '1', 'M', 'E', 'E'],\n",
       " ['B', '1', '1', '1', 'E'],\n",
       " ['B', 'B', 'B', 'B', 'E']]"
      ]
     },
     "execution_count": 19,
     "metadata": {},
     "output_type": "execute_result"
    }
   ],
   "source": [
    "def updateBoard(board, click):\n",
    "        if not board: return\n",
    "        x,y=click[0],click[1]\n",
    "        if(board[x][y] == 'M'):\n",
    "            board[x][y] = 'X'\n",
    "            return board\n",
    "        row=col = len(board)\n",
    "        dx = [-1, -1, -1, 0, 0, 1, 1, 1]\n",
    "        dy = [-1, 0, 1, -1, 1, -1, 0, 1]\n",
    "        x1,y1=0,0\n",
    "        def in_bound(x,y):\n",
    "            if(x<0 or x>=row or y<0 or y>=col):\n",
    "                return False\n",
    "            return True\n",
    "        def dfs(x,y):\n",
    "            if(not in_bound(x,y)): return \n",
    "            if(board[x][y]=='B' or board[x][y]>='1' and board[x][y]<='8'): return \n",
    "            count = 0\n",
    "            for i in range(8):\n",
    "                x1=x+dx[i]\n",
    "                y1=y+dy[i]\n",
    "                if(in_bound(x1,y1) and board[x1][y1]=='M'):\n",
    "                    count+=1\n",
    "            board[x][y]='B' if count==0 else str(count)\n",
    "            x1,y1=0,0\n",
    "            if count == 0:\n",
    "                for i in range(8):\n",
    "                    x1=x+dx[i]\n",
    "                    y1=y+dy[i]\n",
    "                    dfs(x1,y1)\n",
    "        dfs(x,y)\n",
    "        return board\n",
    "board=[[\"E\",\"E\",\"E\",\"E\",\"E\"],[\"E\",\"E\",\"M\",\"E\",\"E\"],[\"E\",\"E\",\"E\",\"E\",\"E\"],[\"E\",\"E\",\"E\",\"E\",\"E\"]]\n",
    "click=[3,0]\n",
    "updateBoard(board,click)"
   ]
  },
  {
   "cell_type": "markdown",
   "metadata": {},
   "source": [
    "## 二叉树的最小深度,到叶子节点"
   ]
  },
  {
   "cell_type": "code",
   "execution_count": null,
   "metadata": {},
   "outputs": [],
   "source": [
    "class Solution(object):\n",
    "    def minDepth(self, root):\n",
    "        if not root:\n",
    "            return 0\n",
    "        if not root.left and not root.right:\n",
    "            return 1\n",
    "        d1 = self.minDepth(root.left)\n",
    "        d2 = self.minDepth(root.right)\n",
    "        if not root.left or not root.right:\n",
    "            return d1 + d2 + 1\n",
    "        return min(d1, d2) + 1"
   ]
  },
  {
   "cell_type": "markdown",
   "metadata": {},
   "source": [
    "## 24点"
   ]
  },
  {
   "cell_type": "code",
   "execution_count": 6,
   "metadata": {
    "ExecuteTime": {
     "end_time": "2020-08-22T04:15:36.939322Z",
     "start_time": "2020-08-22T04:15:36.924384Z"
    }
   },
   "outputs": [
    {
     "data": {
      "text/plain": [
       "True"
      ]
     },
     "execution_count": 6,
     "metadata": {},
     "output_type": "execute_result"
    }
   ],
   "source": [
    "class Solution(object):\n",
    "    def judgePoint24(self, nums):\n",
    "        target = 24\n",
    "        small_num = 1e-6\n",
    "        length = len(nums)\n",
    "\n",
    "        def dfs(nums, length):\n",
    "            if length == 0:\n",
    "                return False\n",
    "            if length == 1:\n",
    "                return abs(nums[0] - target) <= small_num\n",
    "            for i in range(length):\n",
    "                for j in range(length):\n",
    "                    if i != j:\n",
    "                        tmp_nums = [nums[k] for k in range(length) if k not in [i, j]]\n",
    "                        if i < j:\n",
    "                            if dfs(tmp_nums + [nums[i] + nums[j]], length - 1): return True\n",
    "                            if dfs(tmp_nums + [nums[i] * nums[j]], length - 1): return True\n",
    "                        if dfs(tmp_nums + [nums[i] - nums[j]], length - 1): return True\n",
    "                        if abs(nums[j] > small_num):\n",
    "                            if dfs(tmp_nums + [nums[i] / nums[j]], length - 1): return True\n",
    "            return False\n",
    "        return dfs(nums, length)\n",
    "a=Solution()\n",
    "a.judgePoint24([8,1,6,6])"
   ]
  },
  {
   "cell_type": "markdown",
   "metadata": {},
   "source": [
    "## 数字按位与 例如5(101)和7(111)就是4(100)"
   ]
  },
  {
   "cell_type": "code",
   "execution_count": null,
   "metadata": {},
   "outputs": [],
   "source": [
    "class Solution:\n",
    "    def rangeBitwiseAnd(self, m: int, n: int) -> int:\n",
    "        count = 0\n",
    "        while (m < n):\n",
    "            m = m >> 1\n",
    "            n = n >> 1\n",
    "            count += 1\n",
    "        return m << count"
   ]
  },
  {
   "cell_type": "markdown",
   "metadata": {},
   "source": [
    "## 重复字符串"
   ]
  },
  {
   "cell_type": "markdown",
   "metadata": {},
   "source": [
    "示例 1:\n",
    "\n",
    "输入: \"abab\"\n",
    "\n",
    "输出: True\n",
    "\n",
    "解释: 可由子字符串 \"ab\" 重复两次构成。"
   ]
  },
  {
   "cell_type": "code",
   "execution_count": null,
   "metadata": {},
   "outputs": [],
   "source": [
    "class Solution:\n",
    "    def repeatedSubstringPattern(self, s: str) -> bool:\n",
    "        return s in (s+s)[1:-1]"
   ]
  },
  {
   "cell_type": "markdown",
   "metadata": {},
   "source": [
    "## 打印所有递增子序列"
   ]
  },
  {
   "cell_type": "code",
   "execution_count": 16,
   "metadata": {
    "ExecuteTime": {
     "end_time": "2020-08-25T03:29:02.614809Z",
     "start_time": "2020-08-25T03:29:02.606830Z"
    }
   },
   "outputs": [
    {
     "data": {
      "text/plain": [
       "[[]]"
      ]
     },
     "execution_count": 16,
     "metadata": {},
     "output_type": "execute_result"
    }
   ],
   "source": [
    "class Solution(object):\n",
    "    def findSubsequences(self, nums):\n",
    "        ans = set()\n",
    "        len1 = len(nums)\n",
    "\n",
    "        def dfs(i, tmp):\n",
    "            if len(tmp) > 1:\n",
    "                ans.add(tmp)\n",
    "            if i >= len1:\n",
    "                return\n",
    "            if not tmp or tmp[-1] < nums[i]:\n",
    "                dfs(i + 1, tmp + (nums[i], ))\n",
    "            dfs(i + 1, tmp)\n",
    "\n",
    "        dfs(0, ())\n",
    "        return list(ans)\n",
    "\n",
    "\n",
    "a = Solution()\n",
    "x = a.findSubsequences([4, 6, 7, 7])"
   ]
  },
  {
   "cell_type": "markdown",
   "metadata": {},
   "source": [
    "## 在前边加最少字母组成最短回文子串"
   ]
  },
  {
   "cell_type": "code",
   "execution_count": null,
   "metadata": {},
   "outputs": [],
   "source": [
    "class Solution(object):\n",
    "    def shortestPalindrome(self, s):\n",
    "        if not s:\n",
    "            return s\n",
    "        r = s[::-1]\n",
    "        for i in range(len(s)):\n",
    "            if (s.startswith(r[i:])):\n",
    "                return r[:i] + s"
   ]
  },
  {
   "cell_type": "markdown",
   "metadata": {},
   "source": [
    "## 菱形打印"
   ]
  },
  {
   "cell_type": "code",
   "execution_count": 24,
   "metadata": {
    "ExecuteTime": {
     "end_time": "2020-09-05T04:24:28.820973Z",
     "start_time": "2020-09-05T04:24:28.814020Z"
    }
   },
   "outputs": [
    {
     "name": "stdout",
     "output_type": "stream",
     "text": [
      "**1**|*212*|32123|*212*|**1**\n"
     ]
    }
   ],
   "source": [
    "#                 **1**|*212*|32123|*212*|**1**\n",
    "def solve(n):\n",
    "    half = n // 2\n",
    "    s = []\n",
    "    ss=\"\"\n",
    "    if n % 2 == 0:\n",
    "        return False\n",
    "    for i in range(n):\n",
    "        tmp = [\"*\"] * n\n",
    "        x = abs(half - i)\n",
    "        x = half + 1 - x\n",
    "        left = half\n",
    "        right = half\n",
    "        count = 1\n",
    "        for j in range(x):\n",
    "            tmp[left] = str(count)\n",
    "            tmp[right] = str(count)\n",
    "            count += 1\n",
    "            left -= 1\n",
    "            right += 1\n",
    "        s.append(tmp)\n",
    "        if i != n-1:\n",
    "            s.append(\"|\")\n",
    "    for i in s:\n",
    "        ss+=\"\".join(i)\n",
    "    return ss\n",
    "\n",
    "\n",
    "print(solve(5))"
   ]
  },
  {
   "cell_type": "code",
   "execution_count": 17,
   "metadata": {
    "ExecuteTime": {
     "end_time": "2020-09-05T04:16:56.231440Z",
     "start_time": "2020-09-05T04:16:56.226454Z"
    }
   },
   "outputs": [
    {
     "data": {
      "text/plain": [
       "[[1, 2, 3]]"
      ]
     },
     "execution_count": 17,
     "metadata": {},
     "output_type": "execute_result"
    }
   ],
   "source": [
    "s"
   ]
  }
 ],
 "metadata": {
  "kernelspec": {
   "display_name": "Python 3",
   "language": "python",
   "name": "python3"
  },
  "language_info": {
   "codemirror_mode": {
    "name": "ipython",
    "version": 3
   },
   "file_extension": ".py",
   "mimetype": "text/x-python",
   "name": "python",
   "nbconvert_exporter": "python",
   "pygments_lexer": "ipython3",
   "version": "3.6.10"
  },
  "toc": {
   "base_numbering": 1,
   "nav_menu": {},
   "number_sections": true,
   "sideBar": true,
   "skip_h1_title": false,
   "title_cell": "Table of Contents",
   "title_sidebar": "Contents",
   "toc_cell": false,
   "toc_position": {},
   "toc_section_display": true,
   "toc_window_display": false
  },
  "varInspector": {
   "cols": {
    "lenName": 16,
    "lenType": 16,
    "lenVar": 40
   },
   "kernels_config": {
    "python": {
     "delete_cmd_postfix": "",
     "delete_cmd_prefix": "del ",
     "library": "var_list.py",
     "varRefreshCmd": "print(var_dic_list())"
    },
    "r": {
     "delete_cmd_postfix": ") ",
     "delete_cmd_prefix": "rm(",
     "library": "var_list.r",
     "varRefreshCmd": "cat(var_dic_list()) "
    }
   },
   "types_to_exclude": [
    "module",
    "function",
    "builtin_function_or_method",
    "instance",
    "_Feature"
   ],
   "window_display": false
  }
 },
 "nbformat": 4,
 "nbformat_minor": 4
}
